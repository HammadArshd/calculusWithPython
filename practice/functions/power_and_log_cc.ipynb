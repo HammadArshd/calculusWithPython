{
  "nbformat": 4,
  "nbformat_minor": 0,
  "metadata": {
    "colab": {
      "provenance": [],
      "authorship_tag": "ABX9TyMf7OUKipiUTmunaREgfjsw",
      "include_colab_link": true
    },
    "kernelspec": {
      "name": "python3",
      "display_name": "Python 3"
    },
    "language_info": {
      "name": "python"
    }
  },
  "cells": [
    {
      "cell_type": "markdown",
      "metadata": {
        "id": "view-in-github",
        "colab_type": "text"
      },
      "source": [
        "<a href=\"https://colab.research.google.com/github/HammadArshd/calculusWithPython/blob/practice/practice/functions/power_and_log_cc.ipynb\" target=\"_parent\"><img src=\"https://colab.research.google.com/assets/colab-badge.svg\" alt=\"Open In Colab\"/></a>"
      ]
    },
    {
      "cell_type": "code",
      "execution_count": 30,
      "metadata": {
        "id": "0xmK9O81pYaT"
      },
      "outputs": [],
      "source": [
        "import numpy as np\n",
        "import sympy as sym\n",
        "import matplotlib.pyplot as plt\n",
        "\n",
        "from IPython.display import display, Math\n",
        "from sympy.abc import x,a,b"
      ]
    },
    {
      "cell_type": "code",
      "source": [
        "# compute the terms individually\n",
        "e1_xa = x**a\n",
        "e1_xb = x**b\n",
        "\n",
        "e1_xab = e1_xa*e1_xb\n",
        "\n",
        "display(e1_xab)\n",
        "display(sym.simplify(e1_xab))"
      ],
      "metadata": {
        "colab": {
          "base_uri": "https://localhost:8080/",
          "height": 60
        },
        "id": "QcGM9tmppsQ5",
        "outputId": "92c720c8-8b49-4b14-f011-38c57705cd81"
      },
      "execution_count": 2,
      "outputs": [
        {
          "output_type": "display_data",
          "data": {
            "text/plain": [
              "x**a*x**b"
            ],
            "text/latex": "$\\displaystyle x^{a} x^{b}$"
          },
          "metadata": {}
        },
        {
          "output_type": "display_data",
          "data": {
            "text/plain": [
              "x**(a + b)"
            ],
            "text/latex": "$\\displaystyle x^{a + b}$"
          },
          "metadata": {}
        }
      ]
    },
    {
      "cell_type": "code",
      "source": [
        "e1_n1 = 3.4\n",
        "e1_n2 = 7.3\n",
        "e1_xa.subs(a, e1_n1)*e1_xb.subs(b, e1_n2)"
      ],
      "metadata": {
        "colab": {
          "base_uri": "https://localhost:8080/",
          "height": 38
        },
        "id": "PSx1ukD6G-4U",
        "outputId": "479c849e-76b1-4d04-af5e-619960a786c5"
      },
      "execution_count": 3,
      "outputs": [
        {
          "output_type": "execute_result",
          "data": {
            "text/plain": [
              "x**10.7"
            ],
            "text/latex": "$\\displaystyle x^{10.7}$"
          },
          "metadata": {},
          "execution_count": 3
        }
      ]
    },
    {
      "cell_type": "code",
      "source": [
        "# Exercise 2: Subtracting powers\n",
        "e2_xa = x**a\n",
        "e2_xb = x**b\n",
        "\n",
        "e2_xab = e2_xa/e2_xb\n",
        "\n",
        "display(e2_xab)\n",
        "display(sym.simplify(e2_xab))"
      ],
      "metadata": {
        "colab": {
          "base_uri": "https://localhost:8080/",
          "height": 60
        },
        "id": "KbIDFKnXIVQy",
        "outputId": "a255672b-e3bf-4633-aec1-c88098c8817a"
      },
      "execution_count": 5,
      "outputs": [
        {
          "output_type": "display_data",
          "data": {
            "text/plain": [
              "x**a/x**b"
            ],
            "text/latex": "$\\displaystyle x^{a} x^{- b}$"
          },
          "metadata": {}
        },
        {
          "output_type": "display_data",
          "data": {
            "text/plain": [
              "x**(a - b)"
            ],
            "text/latex": "$\\displaystyle x^{a - b}$"
          },
          "metadata": {}
        }
      ]
    },
    {
      "cell_type": "code",
      "source": [
        "e2_n = 4\n",
        "e2_xa.subs(a, e2_n)/e2_xb.subs(b, e2_n)"
      ],
      "metadata": {
        "colab": {
          "base_uri": "https://localhost:8080/",
          "height": 37
        },
        "id": "yWrckhDE40hm",
        "outputId": "1a3573a8-e7a9-4c05-9861-0cbcf7fe03e0"
      },
      "execution_count": 8,
      "outputs": [
        {
          "output_type": "execute_result",
          "data": {
            "text/plain": [
              "1"
            ],
            "text/latex": "$\\displaystyle 1$"
          },
          "metadata": {},
          "execution_count": 8
        }
      ]
    },
    {
      "cell_type": "code",
      "source": [
        "0**0 # 1 OR = 0/0 = NaN ----> by convention 1"
      ],
      "metadata": {
        "colab": {
          "base_uri": "https://localhost:8080/"
        },
        "id": "yLFMADNZ5cx1",
        "outputId": "66074252-05ae-4c4d-d275-60cf2d7ff872"
      },
      "execution_count": 10,
      "outputs": [
        {
          "output_type": "execute_result",
          "data": {
            "text/plain": [
              "1"
            ]
          },
          "metadata": {},
          "execution_count": 10
        }
      ]
    },
    {
      "cell_type": "code",
      "source": [
        "# Exercise 3: Powers upon powers\n",
        "e3_xa = x**a\n",
        "display((e3_xa)**b)\n",
        "display(sym.simplify((e3_xa)**b))\n",
        "display(sym.powsimp((e3_xa)**b))\n",
        "# sympy will only simplify equations when they are true in their general case"
      ],
      "metadata": {
        "colab": {
          "base_uri": "https://localhost:8080/",
          "height": 86
        },
        "id": "MEKIJG_-5sg4",
        "outputId": "83e7a00c-4e41-4127-9bc7-a34bd4ce28d1"
      },
      "execution_count": 15,
      "outputs": [
        {
          "output_type": "display_data",
          "data": {
            "text/plain": [
              "(x**a)**b"
            ],
            "text/latex": "$\\displaystyle \\left(x^{a}\\right)^{b}$"
          },
          "metadata": {}
        },
        {
          "output_type": "display_data",
          "data": {
            "text/plain": [
              "(x**a)**b"
            ],
            "text/latex": "$\\displaystyle \\left(x^{a}\\right)^{b}$"
          },
          "metadata": {}
        },
        {
          "output_type": "display_data",
          "data": {
            "text/plain": [
              "(x**a)**b"
            ],
            "text/latex": "$\\displaystyle \\left(x^{a}\\right)^{b}$"
          },
          "metadata": {}
        }
      ]
    },
    {
      "cell_type": "code",
      "source": [
        "# simplifications from slides\n",
        "e3_n1 = 3\n",
        "e3_n2 = 7\n",
        "display((x**e3_n1)**e3_n2)\n",
        "display(x**(e3_n1*e3_n2))"
      ],
      "metadata": {
        "colab": {
          "base_uri": "https://localhost:8080/",
          "height": 60
        },
        "id": "viZQagJX6dqE",
        "outputId": "8caf4c39-a1c1-41b2-ed40-69a81553b85c"
      },
      "execution_count": 19,
      "outputs": [
        {
          "output_type": "display_data",
          "data": {
            "text/plain": [
              "x**21"
            ],
            "text/latex": "$\\displaystyle x^{21}$"
          },
          "metadata": {}
        },
        {
          "output_type": "display_data",
          "data": {
            "text/plain": [
              "x**21"
            ],
            "text/latex": "$\\displaystyle x^{21}$"
          },
          "metadata": {}
        }
      ]
    },
    {
      "cell_type": "code",
      "source": [
        "e3_n1 = 4.1\n",
        "e3_n2 = -.3\n",
        "display((x**e3_n1)**e3_n2)\n",
        "display(x**(e3_n1*e3_n2))"
      ],
      "metadata": {
        "colab": {
          "base_uri": "https://localhost:8080/",
          "height": 63
        },
        "id": "_F2xD_FF7mUv",
        "outputId": "e47cecdf-66e8-45ed-980b-e8103f14f856"
      },
      "execution_count": 21,
      "outputs": [
        {
          "output_type": "display_data",
          "data": {
            "text/plain": [
              "(x**4.1)**(-0.3)"
            ],
            "text/latex": "$\\displaystyle \\left(x^{4.1}\\right)^{-0.3}$"
          },
          "metadata": {}
        },
        {
          "output_type": "display_data",
          "data": {
            "text/plain": [
              "x**(-1.23)"
            ],
            "text/latex": "$\\displaystyle x^{-1.23}$"
          },
          "metadata": {}
        }
      ]
    },
    {
      "cell_type": "code",
      "source": [
        "# x replaced with -2\n",
        "e3_n1 = 4.1\n",
        "e3_n2 = -.3\n",
        "y = -2\n",
        "display((y**e3_n1)**e3_n2)\n",
        "display(y**(e3_n1*e3_n2))\n",
        "# result is complex nums."
      ],
      "metadata": {
        "colab": {
          "base_uri": "https://localhost:8080/",
          "height": 52
        },
        "id": "y02QIXUE72jU",
        "outputId": "27e90fbc-424d-4920-e73b-26c973d78052"
      },
      "execution_count": 24,
      "outputs": [
        {
          "output_type": "display_data",
          "data": {
            "text/plain": [
              "(0.4244254339688208-0.040120015770397914j)"
            ]
          },
          "metadata": {}
        },
        {
          "output_type": "display_data",
          "data": {
            "text/plain": [
              "(-0.3197854353341568+0.28192878535754856j)"
            ]
          },
          "metadata": {}
        }
      ]
    },
    {
      "cell_type": "code",
      "source": [
        "# constraints for sympy\n",
        "y, c, d =  sym.symbols('y, c, d', positive=True)\n",
        "# because the power upon power only works for positive real numbers\n",
        "\n",
        "display((y**c)**d)\n",
        "display(y**(c*d))"
      ],
      "metadata": {
        "colab": {
          "base_uri": "https://localhost:8080/",
          "height": 60
        },
        "id": "P_DxgTmk8SJP",
        "outputId": "517f2fdd-2d4d-46fe-e5ec-e3127462a5c6"
      },
      "execution_count": 28,
      "outputs": [
        {
          "output_type": "display_data",
          "data": {
            "text/plain": [
              "y**(c*d)"
            ],
            "text/latex": "$\\displaystyle y^{c d}$"
          },
          "metadata": {}
        },
        {
          "output_type": "display_data",
          "data": {
            "text/plain": [
              "y**(c*d)"
            ],
            "text/latex": "$\\displaystyle y^{c d}$"
          },
          "metadata": {}
        }
      ]
    },
    {
      "cell_type": "code",
      "source": [
        "# Exercise 4: the power of log\n",
        "# with numpy\n",
        "\n",
        "# simple numbers\n",
        "m = np.random.rand()\n",
        "n = np.random.rand()\n",
        "\n",
        "np.log(m*n) == np.log(m) + np.log(n)"
      ],
      "metadata": {
        "colab": {
          "base_uri": "https://localhost:8080/"
        },
        "id": "60YXAOsJ9llQ",
        "outputId": "c62f5b86-98a7-485c-94f0-d262e4775ccb"
      },
      "execution_count": 39,
      "outputs": [
        {
          "output_type": "execute_result",
          "data": {
            "text/plain": [
              "True"
            ]
          },
          "metadata": {},
          "execution_count": 39
        }
      ]
    },
    {
      "cell_type": "code",
      "source": [
        "# vector - arr of nums\n",
        "# rand provides uniformly distributed random number between 0 and 1;\n",
        "# all positive as b/w 0 and 1\n",
        "\n",
        "# randn provides normally distributed random numbers \n",
        "# some will be negative\n",
        "# and we cannot take log of negative numbers\n",
        "\n",
        "m = np.random.rand(100)\n",
        "n = np.random.rand(100)\n",
        "v = np.log(m*n) - ( np.log(m) + np.log(n))\n",
        "plt.plot(v, 's-')"
      ],
      "metadata": {
        "colab": {
          "base_uri": "https://localhost:8080/",
          "height": 462
        },
        "id": "CcZfH00mBGG7",
        "outputId": "c36d136c-24ed-4b4a-99ad-cacbf7f44344"
      },
      "execution_count": 42,
      "outputs": [
        {
          "output_type": "execute_result",
          "data": {
            "text/plain": [
              "[<matplotlib.lines.Line2D at 0x7f36e0ccd360>]"
            ]
          },
          "metadata": {},
          "execution_count": 42
        },
        {
          "output_type": "display_data",
          "data": {
            "text/plain": [
              "<Figure size 640x480 with 1 Axes>"
            ],
            "image/png": "[encoded data removed]"
          },
          "metadata": {}
        }
      ]
    },
    {
      "cell_type": "code",
      "source": [
        "# randn provides normally distributed random numbers \n",
        "# i.e. some will be negative\n",
        "# and we cannot take log of negative numbers\n",
        "# so we will see some misisng data points\n",
        "\n",
        "m = np.random.randn(100)\n",
        "n = np.random.randn(100)\n",
        "v = np.log(m*n) - ( np.log(m) + np.log(n))\n",
        "plt.plot(v, 's-')"
      ],
      "metadata": {
        "colab": {
          "base_uri": "https://localhost:8080/",
          "height": 497
        },
        "id": "QvNpiG3jCTbo",
        "outputId": "e045eac1-3d40-42b9-9014-5480d1dfab74"
      },
      "execution_count": 45,
      "outputs": [
        {
          "output_type": "stream",
          "name": "stderr",
          "text": [
            "<ipython-input-45-4482f41f1f73>:8: RuntimeWarning: invalid value encountered in log\n",
            "  v = np.log(m*n) - ( np.log(m) + np.log(n))\n"
          ]
        },
        {
          "output_type": "execute_result",
          "data": {
            "text/plain": [
              "[<matplotlib.lines.Line2D at 0x7f36c6c21ae0>]"
            ]
          },
          "metadata": {},
          "execution_count": 45
        },
        {
          "output_type": "display_data",
          "data": {
            "text/plain": [
              "<Figure size 640x480 with 1 Axes>"
            ],
            "image/png": "[encoded data removed]"
          },
          "metadata": {}
        }
      ]
    },
    {
      "cell_type": "code",
      "source": [
        "# fix negatives in normally distributed random numbers by taking square of every\n",
        "m = np.random.randn(100) ** 2\n",
        "n = np.random.randn(100) ** 2\n",
        "v = np.log(m**n) - (n * np.log(m))\n",
        "plt.plot(v, 's-')"
      ],
      "metadata": {
        "colab": {
          "base_uri": "https://localhost:8080/",
          "height": 462
        },
        "id": "Kukm9a5yChy-",
        "outputId": "aaec5f2f-5ffc-42fc-d4ef-6f89d3ba05d0"
      },
      "execution_count": 50,
      "outputs": [
        {
          "output_type": "execute_result",
          "data": {
            "text/plain": [
              "[<matplotlib.lines.Line2D at 0x7f36c5ad86a0>]"
            ]
          },
          "metadata": {},
          "execution_count": 50
        },
        {
          "output_type": "display_data",
          "data": {
            "text/plain": [
              "<Figure size 640x480 with 1 Axes>"
            ],
            "image/png": "[encoded data removed]"
          },
          "metadata": {}
        }
      ]
    },
    {
      "cell_type": "code",
      "source": [
        "v = np.log(m/n) - ( np.log(m) - np.log(n))\n",
        "plt.plot(v, 's-')"
      ],
      "metadata": {
        "colab": {
          "base_uri": "https://localhost:8080/",
          "height": 462
        },
        "id": "ms9ycd5BCtAI",
        "outputId": "f3672dcf-2b77-4fc1-e5d5-e0e637e38506"
      },
      "execution_count": 51,
      "outputs": [
        {
          "output_type": "execute_result",
          "data": {
            "text/plain": [
              "[<matplotlib.lines.Line2D at 0x7f36c5a2c940>]"
            ]
          },
          "metadata": {},
          "execution_count": 51
        },
        {
          "output_type": "display_data",
          "data": {
            "text/plain": [
              "<Figure size 640x480 with 1 Axes>"
            ],
            "image/png": "[encoded data removed]"
          },
          "metadata": {}
        }
      ]
    }
  ]
}