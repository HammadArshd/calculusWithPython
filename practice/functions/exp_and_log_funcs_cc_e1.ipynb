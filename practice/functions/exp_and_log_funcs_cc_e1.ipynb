{
  "nbformat": 4,
  "nbformat_minor": 0,
  "metadata": {
    "colab": {
      "provenance": [],
      "authorship_tag": "ABX9TyMyoobNUrOIDXvTrsnCMB9o",
      "include_colab_link": true
    },
    "kernelspec": {
      "name": "python3",
      "display_name": "Python 3"
    },
    "language_info": {
      "name": "python"
    }
  },
  "cells": [
    {
      "cell_type": "markdown",
      "metadata": {
        "id": "view-in-github",
        "colab_type": "text"
      },
      "source": [
        "<a href=\"https://colab.research.google.com/github/HammadArshd/calculusWithPython/blob/practice/practice/functions/exp_and_log_funcs_cc_e1.ipynb\" target=\"_parent\"><img src=\"https://colab.research.google.com/assets/colab-badge.svg\" alt=\"Open In Colab\"/></a>"
      ]
    },
    {
      "cell_type": "code",
      "execution_count": 3,
      "metadata": {
        "id": "uK6I8b0yQtoR"
      },
      "outputs": [],
      "source": [
        "import numpy as np\n",
        "import sympy as sym\n",
        "import matplotlib as plt"
      ]
    },
    {
      "cell_type": "code",
      "source": [
        "n = [1, 2, 5, 10]\n",
        "\n",
        "for i in n:\n",
        "  # estimate\n",
        "  e = (1 + (1/i))**i\n",
        "  \n",
        "  # np.exp(1) is also an estimate but it is going to be much more accurate than\n",
        "  # our calculated e hence we will use it\n",
        "  print(f'n: {i:2.0f}, est.e: {e:.5f}, diff to e: {(np.exp(1) - e):.7f}')\n",
        "\n",
        "\n",
        "\n"
      ],
      "metadata": {
        "colab": {
          "base_uri": "https://localhost:8080/"
        },
        "id": "CUNwkWtWRjMm",
        "outputId": "484934ce-9a36-46b5-98a2-0d3369b17dcd"
      },
      "execution_count": 11,
      "outputs": [
        {
          "output_type": "stream",
          "name": "stdout",
          "text": [
            "n:  1, est.e: 2.00000, diff to e: 0.7182818\n",
            "n:  2, est.e: 2.25000, diff to e: 0.4682818\n",
            "n:  5, est.e: 2.48832, diff to e: 0.2299618\n",
            "n: 10, est.e: 2.59374, diff to e: 0.1245394\n"
          ]
        }
      ]
    }
  ]
}