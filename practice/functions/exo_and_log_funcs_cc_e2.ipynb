{
  "nbformat": 4,
  "nbformat_minor": 0,
  "metadata": {
    "colab": {
      "provenance": [],
      "authorship_tag": "ABX9TyOlRea0LQmBDvrZOk94nqk6",
      "include_colab_link": true
    },
    "kernelspec": {
      "name": "python3",
      "display_name": "Python 3"
    },
    "language_info": {
      "name": "python"
    }
  },
  "cells": [
    {
      "cell_type": "markdown",
      "metadata": {
        "id": "view-in-github",
        "colab_type": "text"
      },
      "source": [
        "<a href=\"https://colab.research.google.com/github/HammadArshd/calculusWithPython/blob/practice/practice/functions/exo_and_log_funcs_cc_e2.ipynb\" target=\"_parent\"><img src=\"https://colab.research.google.com/assets/colab-badge.svg\" alt=\"Open In Colab\"/></a>"
      ]
    },
    {
      "cell_type": "code",
      "execution_count": 5,
      "metadata": {
        "id": "u9aSHthBWgQF"
      },
      "outputs": [],
      "source": [
        "import numpy as np\n",
        "import sympy as sym\n",
        "import matplotlib.pyplot as plt"
      ]
    },
    {
      "cell_type": "code",
      "source": [
        "n = [1, 2, 5, 10]\n",
        "\n",
        "for i in n:\n",
        "  # estimate\n",
        "  e = (1 + (1/i))**i\n",
        "  \n",
        "  # np.exp(1) is also an estimate but it is going to be much more accurate than\n",
        "  # our calculated e hence we will use it\n",
        "  print(f'n: {i:2.0f}, est.e: {e:.5f}, diff to e: {(np.exp(1) - e):.7f}')"
      ],
      "metadata": {
        "colab": {
          "base_uri": "https://localhost:8080/"
        },
        "id": "d_nacGShWpYv",
        "outputId": "28276bb7-73dc-4c73-b9c4-ca19b95351e4"
      },
      "execution_count": 6,
      "outputs": [
        {
          "output_type": "stream",
          "name": "stdout",
          "text": [
            "n:  1, est.e: 2.00000, diff to e: 0.7182818\n",
            "n:  2, est.e: 2.25000, diff to e: 0.4682818\n",
            "n:  5, est.e: 2.48832, diff to e: 0.2299618\n",
            "n: 10, est.e: 2.59374, diff to e: 0.1245394\n"
          ]
        }
      ]
    },
    {
      "cell_type": "code",
      "source": [
        "n = np.arange(1, 1001)\n",
        "\n",
        "# numpy arr is different from simple list(used above)\n",
        "# on numpy arr (vector n)\n",
        "# element wise algebric operations (divison, power) can be perfomed\n",
        "# \n",
        "e_diffs = np.exp(1) - (1 + 1/n)**n\n",
        "plt.plot(n, e_diffs)\n",
        "\n"
      ],
      "metadata": {
        "colab": {
          "base_uri": "https://localhost:8080/",
          "height": 447
        },
        "id": "fiJvz_rUam0B",
        "outputId": "f5a85185-56f3-4e12-a74f-dc1b04fbbf18"
      },
      "execution_count": 7,
      "outputs": [
        {
          "output_type": "execute_result",
          "data": {
            "text/plain": [
              "[<matplotlib.lines.Line2D at 0x7f07349a5f60>]"
            ]
          },
          "metadata": {},
          "execution_count": 7
        },
        {
          "output_type": "display_data",
          "data": {
            "text/plain": [
              "<Figure size 640x480 with 1 Axes>"
            ],
            "image/png": "[encoded data removed]"
          },
          "metadata": {}
        }
      ]
    }
  ]
}